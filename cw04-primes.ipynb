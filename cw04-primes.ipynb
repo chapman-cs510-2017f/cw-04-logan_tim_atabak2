{
 "cells": [
  {
   "cell_type": "code",
   "execution_count": 1,
   "metadata": {
    "collapsed": false
   },
   "outputs": [
   ],
   "source": [
    "import primes"
   ]
  },
  {
   "cell_type": "markdown",
   "metadata": {
    "collapsed": false
   },
   "source": [
    "## The Sieve of Eratosthenes ##\n",
    "\n"
   ]
  },
  {
   "cell_type": "markdown",
   "metadata": {
    "collapsed": false
   },
   "source": [
    "- Goal of the algorithm: The Sieve of Eratosthenes will take a positive integer n and return all prime numbers smaller than n.\n",
    "- How it works: The algorithm stematically removes numbers until only a list of primes (up to n) remains. Starting from the number 2, it removes all multiples of 2 and the next largest prime number. This process is repeated until a set of primes remains.\n",
    "\n",
    "- Data structure and design: We utilized a list as our data structure since the removal process works well with generating a full list of integers before the functions sorts out all the composite numbers."
   ]
  },
  {
   "cell_type": "code",
   "execution_count": 2,
   "metadata": {
    "collapsed": false
   },
   "outputs": [
    {
     "name": "stdout",
     "output_type": "stream",
     "text": [
      "[2, 3, 5, 7, 11, 13, 17, 19]\n"
     ]
    }
   ],
   "source": [
    "print(primes.eratosthenes(20))"
   ]
  },
  {
   "cell_type": "markdown",
   "metadata": {
    "collapsed": false
   },
   "source": [
    "## Generating Prime Numbers ##"
   ]
  },
  {
   "cell_type": "markdown",
   "metadata": {
    "collapsed": false
   },
   "source": [
    "- ??? Explain your design decisions, and what is different compared to the previous implementation. Comment on whether your modification makes the original algorithm more efficient or not."
   ]
  },
  {
   "cell_type": "markdown",
   "metadata": {
    "collapsed": false
   },
   "source": [
    "## Benchmarking Implementations ##"
   ]
  },
  {
   "cell_type": "code",
   "execution_count": 2,
   "metadata": {
    "collapsed": false
   },
   "outputs": [
    {
     "name": "stdout",
     "output_type": "stream",
     "text": [
      "378 µs ± 33.8 µs per loop (mean ± std. dev. of 7 runs, 1000 loops each)\n"
     ]
    },
    {
     "name": "stdout",
     "output_type": "stream",
     "text": [
      "1.99 ms ± 175 µs per loop (mean ± std. dev. of 7 runs, 1000 loops each)\n"
     ]
    }
   ],
   "source": [
    "def primes_up_to_n(n):\n",
    "    g = primes.gen_eratosthenes()\n",
    "    prime = next(g)\n",
    "    while True:\n",
    "        new_prime = next(g)\n",
    "        if new_prime > n:\n",
    "            break\n",
    "        prime = new_prime\n",
    "    return prime\n",
    "\n",
    "%timeit primes.eratosthenes(1000)[-1]\n",
    "%timeit primes_up_to_n(1000)"
   ]
  },
  {
   "cell_type": "markdown",
   "metadata": {
    "collapsed": false
   },
   "source": [
    "The initial algorithm, which generates a fixed number of primes, achieves its goal in only 20% of the time that the generator based algorithm needs. \n",
    "\n",
    "??? Does it match your prediction about efficiency above? Speculate about what is being slow about the slower implementation."
   ]
  }
 ],
 "metadata": {
  "kernelspec": {
   "display_name": "Python 3 (Anaconda)",
   "language": "python",
   "name": "anaconda3"
  },
  "language_info": {
   "codemirror_mode": {
    "name": "ipython",
    "version": 3
   },
   "file_extension": ".py",
   "mimetype": "text/x-python",
   "name": "python",
   "nbconvert_exporter": "python",
   "pygments_lexer": "ipython3",
   "version": "3.5.4"
  }
 },
 "nbformat": 4,
 "nbformat_minor": 0
}
